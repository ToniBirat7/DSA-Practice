{
 "cells": [
  {
   "cell_type": "markdown",
   "metadata": {},
   "source": [
    "### Singly Linked List"
   ]
  },
  {
   "cell_type": "markdown",
   "metadata": {},
   "source": [
    "#### Insertion at the beginning"
   ]
  },
  {
   "cell_type": "code",
   "execution_count": 17,
   "metadata": {},
   "outputs": [
    {
     "name": "stdout",
     "output_type": "stream",
     "text": [
      "1 1\n",
      "1 2 len 2\n",
      "3 2 1 len 3\n",
      "1 None\n"
     ]
    }
   ],
   "source": [
    "class Node:\n",
    "    def __init__(self,value) -> None:\n",
    "        self.data = value\n",
    "        self.next = None\n",
    "        \n",
    "class LL:\n",
    "    def __init__(self) -> None:\n",
    "        self.head = None\n",
    "        self.tail = None\n",
    "        self.n = 0\n",
    "\n",
    "    def increament(self):\n",
    "        self.n += 1\n",
    "    \n",
    "    def append_begging(self,value):\n",
    "        new_node = Node(value)\n",
    "\n",
    "        if self.head is None:\n",
    "            self.tail = self.head = new_node\n",
    "        else:\n",
    "            new_node.next = self.head\n",
    "            self.head = new_node\n",
    "\n",
    "        self.increament()\n",
    "\n",
    "    def traverse(self):\n",
    "        current = self.head\n",
    "\n",
    "        while current:\n",
    "            print(current.data)\n",
    "            current = current.next\n",
    "\n",
    "ll1 = LL()\n",
    "\n",
    "ll1.append_begging(1)\n",
    "\n",
    "print(ll1.tail.data,ll1.head.data)\n",
    "\n",
    "ll1.append_begging(2)\n",
    "\n",
    "print(ll1.tail.data,ll1.head.data,\"len\",ll1.n)\n",
    "\n",
    "ll1.append_begging(3)\n",
    "\n",
    "print(ll1.head.data,ll1.head.next.data,ll1.head.next.next.data,\"len\",ll1.n)\n",
    "print(ll1.tail.data,ll1.tail.next)\n"
   ]
  },
  {
   "cell_type": "markdown",
   "metadata": {},
   "source": [
    "### Traverse from beginning\n",
    "- Print all the elements in a linked list\n",
    "- Use loop"
   ]
  },
  {
   "cell_type": "code",
   "execution_count": 18,
   "metadata": {},
   "outputs": [
    {
     "name": "stdout",
     "output_type": "stream",
     "text": [
      "Items added from the Head of LinkedList\n",
      "3\n",
      "2\n",
      "1\n"
     ]
    }
   ],
   "source": [
    "print(\"Items added from the Head of LinkedList\")\n",
    "\n",
    "ll1.traverse() # All data of the Singly Linked List"
   ]
  },
  {
   "cell_type": "markdown",
   "metadata": {},
   "source": [
    "### Insertion from last\n",
    "- Elements will be add, starting from the tail of the LinkedList"
   ]
  },
  {
   "cell_type": "code",
   "execution_count": 20,
   "metadata": {},
   "outputs": [],
   "source": [
    "class Node:\n",
    "    def __init__(self,value) -> None:\n",
    "        self.data = value\n",
    "        self.next = None\n",
    "        \n",
    "class LL:\n",
    "    def __init__(self) -> None:\n",
    "        self.head = None\n",
    "        self.tail = None\n",
    "        self.n = 0\n",
    "\n",
    "    def increament(self):\n",
    "        self.n += 1\n",
    "    \n",
    "    def append_begging(self,value):\n",
    "        new_node = Node(value)\n",
    "\n",
    "        if self.head is None:\n",
    "            self.tail = self.head = new_node\n",
    "        else:\n",
    "            new_node.next = self.head\n",
    "            self.head = new_node\n",
    "\n",
    "        self.increament()\n",
    "\n",
    "    def append_last(self,value):\n",
    "        new_node = Node(value)\n",
    "\n",
    "        if self.tail is None:\n",
    "            self.head = self.tail = new_node\n",
    "        else:\n",
    "            self.tail.next = new_node\n",
    "            self.tail = new_node\n",
    "\n",
    "        self.increament()\n",
    "\n",
    "    def traverse(self):\n",
    "        current = self.head\n",
    "\n",
    "        while current:\n",
    "            print(current.data)\n",
    "            current = current.next\n",
    "\n",
    "ll1 = LL()\n",
    "\n",
    "ll1.append_last(1)\n",
    "\n",
    "ll1.append_last(2)\n",
    "\n",
    "ll1.append_last(3)\n"
   ]
  },
  {
   "cell_type": "markdown",
   "metadata": {},
   "source": [
    "#### Traversal of the LinkedList for items added from the tail"
   ]
  },
  {
   "cell_type": "code",
   "execution_count": 21,
   "metadata": {},
   "outputs": [
    {
     "name": "stdout",
     "output_type": "stream",
     "text": [
      "Items added from the Tail of LinkedList\n",
      "1\n",
      "2\n",
      "3\n"
     ]
    }
   ],
   "source": [
    "print(\"Items added from the Tail of LinkedList\")\n",
    "ll1.traverse()"
   ]
  }
 ],
 "metadata": {
  "kernelspec": {
   "display_name": "Python 3",
   "language": "python",
   "name": "python3"
  },
  "language_info": {
   "codemirror_mode": {
    "name": "ipython",
    "version": 3
   },
   "file_extension": ".py",
   "mimetype": "text/x-python",
   "name": "python",
   "nbconvert_exporter": "python",
   "pygments_lexer": "ipython3",
   "version": "3.12.2"
  }
 },
 "nbformat": 4,
 "nbformat_minor": 2
}
